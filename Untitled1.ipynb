{
 "cells": [
  {
   "cell_type": "code",
   "execution_count": 1,
   "metadata": {
    "collapsed": false
   },
   "outputs": [
    {
     "name": "stdout",
     "output_type": "stream",
     "text": [
      "No download today, it's not Monday\n"
     ]
    }
   ],
   "source": [
    "\"\"\"\n",
    "Script to download episodes of The News Quiz when they are available via the\n",
    "BBC Friday Night Comedy podcast.\n",
    "Currently running on my pythonanywhere.com box.\n",
    "\"\"\"\n",
    "\n",
    "import os\n",
    "import datetime\n",
    "import urllib\n",
    "from bs4 import BeautifulSoup\n",
    "\n",
    "\n",
    "def dl(url, filename):\n",
    "    \"\"\"download mp3 file using urllib.urlretrieve\"\"\"\n",
    "    print \"Downloading {0} from {1}\".format(filename, url)\n",
    "    urllib.urlretrieve(url, filename)\n",
    "    print \"Downloading complete\"\n",
    "\n",
    "\n",
    "def check_rss(url):\n",
    "    \"\"\"check rss feed for News Quiz episodes\"\"\"\n",
    "    feed = urllib.urlopen(url).read()\n",
    "    soup = BeautifulSoup(feed, 'html.parser')\n",
    "    item = soup.find('item') #find first item tag in feed\n",
    "\n",
    "    title = str(item.title.string).lower()\n",
    "    link = str(item.link.string)\n",
    "\n",
    "    mp3_title = title.replace('fricomedy:  ', '').replace(' ', '_') + '.mp3'\n",
    "\n",
    "    #download mp3 if title tag string contains 'the news quiz'\n",
    "    if \"the news quiz\" in title:\n",
    "        dl(link, mp3_title)\n",
    "    else:\n",
    "        print \"No download, this week's show was %s\" % title\n",
    "\n",
    "\n",
    "today = datetime.date.today()\n",
    "weekday = today.weekday()\n",
    "\n",
    "# If Monday run check_rss\n",
    "if (weekday == 0):\n",
    "    #change dir for pythonanywhere purposes\n",
    "    os.chdir('/home/richyvk/Friday-night-comedy-downloader/')\n",
    "    check_rss('http://www.bbc.co.uk/programmes/p02pc9pj/episodes/downloads.rss')\n",
    "else:\n",
    "    print \"No download today, it's not Monday\""
   ]
  },
  {
   "cell_type": "code",
   "execution_count": null,
   "metadata": {
    "collapsed": true
   },
   "outputs": [],
   "source": []
  }
 ],
 "metadata": {
  "kernelspec": {
   "display_name": "Python 2",
   "language": "python",
   "name": "python2"
  },
  "language_info": {
   "codemirror_mode": {
    "name": "ipython",
    "version": 2
   },
   "file_extension": ".py",
   "mimetype": "text/x-python",
   "name": "python",
   "nbconvert_exporter": "python",
   "pygments_lexer": "ipython2",
   "version": "2.7.11"
  }
 },
 "nbformat": 4,
 "nbformat_minor": 0
}
