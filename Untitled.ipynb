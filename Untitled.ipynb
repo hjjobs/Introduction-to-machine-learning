{
 "cells": [
  {
   "cell_type": "code",
   "execution_count": 2,
   "metadata": {
    "collapsed": false
   },
   "outputs": [
    {
     "name": "stdout",
     "output_type": "stream",
     "text": [
      "50\n",
      "2480\n"
     ]
    }
   ],
   "source": [
    "import urllib\n",
    "import re\n",
    "from bs4 import BeautifulSoup\n",
    "\n",
    "url = 'http://python-data.dr-chuck.net/comments_236227.html'\n",
    "html = urllib.urlopen(url).read()\n",
    "\n",
    "soup = BeautifulSoup(html,\"html.parser\")\n",
    "sum=0\n",
    "# Retrieve all of the anchor tags\n",
    "tags = soup('span')\n",
    "c=0;\n",
    "for tag in tags:\n",
    "    # Look at the parts of a tag\n",
    "    y=str(tag)\n",
    "    x= re.findall(\"[0-9]+\",y)\n",
    "    for i in x:\n",
    "        i=int(i)\n",
    "        sum=sum+i\n",
    "        c=c+1;\n",
    "print c  \n",
    "print sum\n"
   ]
  },
  {
   "cell_type": "code",
   "execution_count": 2,
   "metadata": {
    "collapsed": false
   },
   "outputs": [
    {
     "ename": "ImportError",
     "evalue": "No module named mechanize",
     "output_type": "error",
     "traceback": [
      "\u001b[1;31m---------------------------------------------------------------------------\u001b[0m",
      "\u001b[1;31mImportError\u001b[0m                               Traceback (most recent call last)",
      "\u001b[1;32m<ipython-input-2-a6b41378f111>\u001b[0m in \u001b[0;36m<module>\u001b[1;34m()\u001b[0m\n\u001b[1;32m----> 1\u001b[1;33m \u001b[1;32mimport\u001b[0m \u001b[0mmechanize\u001b[0m\u001b[1;33m\u001b[0m\u001b[0m\n\u001b[0m\u001b[0;32m      2\u001b[0m \u001b[1;32mimport\u001b[0m \u001b[0mcookielib\u001b[0m\u001b[1;33m\u001b[0m\u001b[0m\n\u001b[0;32m      3\u001b[0m \u001b[1;32mfrom\u001b[0m \u001b[0mbs4\u001b[0m \u001b[1;32mimport\u001b[0m \u001b[0mBeautifulSoup\u001b[0m\u001b[1;33m\u001b[0m\u001b[0m\n\u001b[0;32m      4\u001b[0m \u001b[1;32mimport\u001b[0m \u001b[0mhtml2text\u001b[0m\u001b[1;33m\u001b[0m\u001b[0m\n\u001b[0;32m      5\u001b[0m \u001b[1;33m\u001b[0m\u001b[0m\n",
      "\u001b[1;31mImportError\u001b[0m: No module named mechanize"
     ]
    }
   ],
   "source": [
    "import mechanize\n",
    "import cookielib\n",
    "from bs4 import BeautifulSoup\n",
    "import html2text\n",
    "\n",
    "# Browser\n",
    "br = mechanize.Browser()\n",
    "\n",
    "# Cookie Jar\n",
    "cj = cookielib.LWPCookieJar()\n",
    "br.set_cookiejar(cj)\n",
    "\n",
    "# Browser options\n",
    "br.set_handle_equiv(True)\n",
    "br.set_handle_gzip(True)\n",
    "br.set_handle_redirect(True)\n",
    "br.set_handle_referer(True)\n",
    "br.set_handle_robots(False)\n",
    "\n",
    "# Follows refresh 0 but not hangs on refresh > 0\n",
    "br.set_handle_refresh(mechanize._http.HTTPRefreshProcessor(), max_time=1)\n",
    "\n",
    "# User-Agent (this is cheating, ok?)\n",
    "br.addheaders = [('User-agent', 'Mozilla/5.0 (X11; U; Linux i686; en-US; rv:1.9.0.1) Gecko/2008071615 Fedora/3.0.1-1.fc9 Firefox/3.0.1')]\n",
    "\n",
    "# The site we will navigate into, handling it's session\n",
    "br.open('http://gmail.com')\n",
    "\n",
    "# Select the first (index zero) form\n",
    "br.select_form(nr=0)\n",
    "\n",
    "# User credentials\n",
    "br.form['Email'] = 'user'\n",
    "br.form['Passwd'] = 'password'\n",
    "\n",
    "# Login\n",
    "br.submit()\n",
    "\n",
    "# Filter all links to mail messages in the inbox\n",
    "all_msg_links = [l for l in br.links(url_regex='\\?v=c&th=')]\n",
    "# Select the first 3 messages\n",
    "for msg_link in all_msg_links[0:3]:\n",
    "    print msg_link\n",
    "    # Open each message\n",
    "    br.follow_link(msg_link)\n",
    "    html = br.response().read()\n",
    "    soup = BeautifulSoup(html)\n",
    "    # Filter html to only show the message content\n",
    "    msg = str(soup.findAll('div', attrs={'class': 'msg'})[0])\n",
    "    # Show raw message content\n",
    "    print msg\n",
    "    # Convert html to text, easier to read but can fail if you have intl\n",
    "    # chars\n",
    "#   print html2text.html2text(msg)\n",
    "    print\n",
    "    # Go back to the Inbox\n",
    "    br.follow_link(text='Inbox')\n",
    "\n",
    "# Logout\n",
    "br.follow_link(text='Sign out')"
   ]
  },
  {
   "cell_type": "code",
   "execution_count": null,
   "metadata": {
    "collapsed": true
   },
   "outputs": [],
   "source": []
  }
 ],
 "metadata": {
  "kernelspec": {
   "display_name": "Python 2",
   "language": "python",
   "name": "python2"
  },
  "language_info": {
   "codemirror_mode": {
    "name": "ipython",
    "version": 2
   },
   "file_extension": ".py",
   "mimetype": "text/x-python",
   "name": "python",
   "nbconvert_exporter": "python",
   "pygments_lexer": "ipython2",
   "version": "2.7.11"
  }
 },
 "nbformat": 4,
 "nbformat_minor": 0
}
