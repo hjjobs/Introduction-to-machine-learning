{
 "cells": [
  {
   "cell_type": "code",
   "execution_count": 2,
   "metadata": {
    "collapsed": false
   },
   "outputs": [
    {
     "name": "stdout",
     "output_type": "stream",
     "text": [
      "Count:  50\n",
      "2533\n"
     ]
    }
   ],
   "source": [
    "import urllib\n",
    "import xml.etree.ElementTree as ET\n",
    "\n",
    "url = 'http://python-data.dr-chuck.net/comments_236224.xml'\n",
    "sum = 0\n",
    "\n",
    "uh = urllib.urlopen(url)\n",
    "data = uh.read()\n",
    "tree = ET.fromstring(data)\n",
    "\n",
    "lst = tree.findall('comments/comment')\n",
    "print 'Count: ', len(lst)\n",
    "\n",
    "for item in lst:\n",
    "    num = int(item.find('count').text)\n",
    "    sum = sum + num\n",
    "\n",
    "print sum\n"
   ]
  },
  {
   "cell_type": "code",
   "execution_count": 7,
   "metadata": {
    "collapsed": false
   },
   "outputs": [
    {
     "name": "stdout",
     "output_type": "stream",
     "text": [
      "Enter URL: http://python-data.dr-chuck.net/known_by_Teegan.html \n",
      "Enter count: 7\n",
      "Enter position: 18\n",
      "retrieving: http://python-data.dr-chuck.net/known_by_Teegan.html \n",
      "retrieving: http://python-data.dr-chuck.net/known_by_Lex.html\n",
      "retrieving: http://python-data.dr-chuck.net/known_by_Brunon.html\n",
      "retrieving: http://python-data.dr-chuck.net/known_by_Princess.html\n",
      "retrieving: http://python-data.dr-chuck.net/known_by_Denhi.html\n",
      "retrieving: http://python-data.dr-chuck.net/known_by_Navneet.html\n",
      "retrieving: http://python-data.dr-chuck.net/known_by_Primrose.html\n",
      "Triniti\n"
     ]
    }
   ],
   "source": [
    "import urllib\n",
    "\n",
    "from bs4 import BeautifulSoup\n",
    "\n",
    "url = raw_input(\"Enter URL: \")\n",
    "count = int(raw_input(\"Enter count: \"))\n",
    "position = int(raw_input(\"Enter position: \"))\n",
    "\n",
    "names = []\n",
    "\n",
    "while count > 0:\n",
    "    print \"retrieving: {0}\".format(url)\n",
    "    page = urllib.urlopen(url)\n",
    "    soup = BeautifulSoup(page)\n",
    "    tag = soup('a')\n",
    "    name = tag[position-1].string\n",
    "    names.append(name)\n",
    "    url = tag[position-1]['href']\n",
    "    count -= 1\n",
    "\n",
    "print names[-1]"
   ]
  },
  {
   "cell_type": "code",
   "execution_count": 14,
   "metadata": {
    "collapsed": false
   },
   "outputs": [
    {
     "name": "stdout",
     "output_type": "stream",
     "text": [
      "Enter site: http://python-data.dr-chuck.net/comments_236228.json\n",
      "Retrieving  http://python-data.dr-chuck.net/comments_236228.json\n",
      "Retrieved  2736 characters\n",
      "Count:  50\n",
      "Sum  2418\n"
     ]
    }
   ],
   "source": [
    "import json   \n",
    "import urllib  \n",
    "url= raw_input('Enter site: ')  \n",
    "print 'Retrieving ', url  \n",
    "data = urllib.urlopen(url).read()  \n",
    "info = json.loads(data)  \n",
    "tot = 0  \n",
    "print 'Retrieved ', len(data), 'characters'  \n",
    "print 'Count: ', len(info['comments'])  \n",
    "for i in range(0, len(info['comments'])):  \n",
    "    tot += int(info['comments'][i]['count'])  \n",
    "print 'Sum ', tot  "
   ]
  },
  {
   "cell_type": "code",
   "execution_count": 15,
   "metadata": {
    "collapsed": false
   },
   "outputs": [
    {
     "name": "stdout",
     "output_type": "stream",
     "text": [
      "Enter location: Beloit College\n",
      "Retrieving http://python-data.dr-chuck.net/geojson?sensor=false&address=Beloit+College\n",
      "Retrieved 2089 characters\n",
      "Place ID  ChIJLdBTeSahCIgRIETQm22AvdE\n"
     ]
    }
   ],
   "source": [
    "import urllib  \n",
    "import json  \n",
    "\n",
    "serviceurl = 'http://python-data.dr-chuck.net/geojson?'  \n",
    "\n",
    "address = raw_input('Enter location: ')  \n",
    "url = serviceurl + urllib.urlencode({'sensor':'false', 'address': address})  \n",
    "print 'Retrieving', url  \n",
    "uh = urllib.urlopen(url)  \n",
    "data = uh.read()  \n",
    "print 'Retrieved',len(data),'characters'  \n",
    "try: js = json.loads(str(data))  \n",
    "except: js = None  \n",
    "if 'status' not in js or js['status'] != 'OK':  \n",
    "  print '==== Failure To Retrieve ===='  \n",
    "  print data  \n",
    " \n",
    "placeid = js[\"results\"][0][\"place_id\"]  \n",
    "print 'Place ID ', placeid"
   ]
  },
  {
   "cell_type": "code",
   "execution_count": null,
   "metadata": {
    "collapsed": true
   },
   "outputs": [],
   "source": []
  }
 ],
 "metadata": {
  "kernelspec": {
   "display_name": "Python 2",
   "language": "python",
   "name": "python2"
  },
  "language_info": {
   "codemirror_mode": {
    "name": "ipython",
    "version": 2
   },
   "file_extension": ".py",
   "mimetype": "text/x-python",
   "name": "python",
   "nbconvert_exporter": "python",
   "pygments_lexer": "ipython2",
   "version": "2.7.11"
  }
 },
 "nbformat": 4,
 "nbformat_minor": 0
}
